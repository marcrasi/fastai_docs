{
 "cells": [
  {
   "cell_type": "markdown",
   "metadata": {},
   "source": [
    "# Implement Callback Mechanism"
   ]
  },
  {
   "cell_type": "code",
   "execution_count": null,
   "metadata": {},
   "outputs": [],
   "source": [
    "import TensorFlow\n",
    "\n",
    "struct DataBatch {\n",
    "    // Simplifying assumption: Model inputs and outputs are Tensor<Float>\n",
    "    var xb: Tensor<Float>\n",
    "    var yb: Tensor<Float>\n",
    "}\n",
    "\n",
    "struct Data {\n",
    "    // Simplifying assumption: Batches are in an array.\n",
    "    var trainBatches: [DataBatch]\n",
    "}\n",
    "\n",
    "enum CallbackEvent {\n",
    "    // I haven't implemented all the events.\n",
    "    case beginFit\n",
    "    case beginEpoch\n",
    "    case beginBatch\n",
    "    case afterForwardsBackwards\n",
    "}\n",
    "\n",
    "class Callback<Opt: Optimizer>\n",
    "where Opt.Model.CotangentVector == Opt.Model.AllDifferentiableVariables,\n",
    "      Opt.Model.Input == Tensor<Float>,\n",
    "      Opt.Model.Output == Tensor<Float> {\n",
    "    func apply(event: CallbackEvent, learner: Learner<Opt>) {}\n",
    "}\n",
    "\n",
    "class Learner<Opt: Optimizer>\n",
    "where Opt.Model.CotangentVector == Opt.Model.AllDifferentiableVariables,\n",
    "      Opt.Model.Input == Tensor<Float>,\n",
    "      Opt.Model.Output == Tensor<Float>\n",
    "{\n",
    "    typealias Model = Opt.Model\n",
    "    var model: Model\n",
    "\n",
    "    // (inputs, labels) -> loss\n",
    "    typealias LossFunc = @differentiable (Tensor<Float>, Tensor<Float>) -> Tensor<Float>\n",
    "    var lossFunc: LossFunc\n",
    "    \n",
    "    var optimizer: Opt\n",
    "    var data: Data\n",
    "    var callbacks: [Callback<Opt>]\n",
    "    \n",
    "    var loss: Tensor<Float> = Tensor(0)\n",
    "    var grad: Model.AllDifferentiableVariables = Model.AllDifferentiableVariables.zero\n",
    "    \n",
    "    var epoch: Int = 0\n",
    "    var epochs: Int = 0\n",
    "    \n",
    "    init(\n",
    "        model: Model,\n",
    "        lossFunc: @escaping LossFunc,\n",
    "        optimizer: Opt,\n",
    "        data: Data,\n",
    "        callbacks: [Callback<Opt>]\n",
    "    ) {\n",
    "        self.model = model\n",
    "        self.lossFunc = lossFunc\n",
    "        self.optimizer = optimizer\n",
    "        self.data = data\n",
    "        self.callbacks = callbacks\n",
    "    }\n",
    "    \n",
    "    func trainOneBatch(xb: Tensor<Float>, yb: Tensor<Float>) {\n",
    "        runCallbacks(event: .beginBatch)\n",
    "        let context = Context(learningPhase: .training)\n",
    "        // Take derivative wrt model and labels to workaround temporary AD limitation.\n",
    "        let lossWithGradient = model.valueWithGradient(at: yb) { (model, yb) -> Tensor<Float> in\n",
    "            let y = model.applied(to: xb, in: context)\n",
    "            return lossFunc(y, yb)\n",
    "        }\n",
    "        self.loss = lossWithGradient.value\n",
    "        self.grad = lossWithGradient.gradient.0\n",
    "        runCallbacks(event: .afterForwardsBackwards)\n",
    "        optimizer.update(&model.allDifferentiableVariables, along: self.grad)\n",
    "    }\n",
    "    \n",
    "    func trainOneEpoch() {\n",
    "        runCallbacks(event: .beginEpoch)\n",
    "        for batch in self.data.trainBatches {\n",
    "            trainOneBatch(xb: batch.xb, yb: batch.yb)\n",
    "        }\n",
    "    }\n",
    "\n",
    "    func fit(epochs: Int) {\n",
    "        // I haven't implemented validation.\n",
    "        self.epochs = epochs\n",
    "        runCallbacks(event: .beginFit)\n",
    "        for epoch in 1...epochs {\n",
    "            self.epoch = epoch\n",
    "            trainOneEpoch()\n",
    "        }\n",
    "    }\n",
    "    \n",
    "    private func runCallbacks(event: CallbackEvent) {\n",
    "        for callback in callbacks {\n",
    "            callback.apply(event: event, learner: self)\n",
    "        }\n",
    "    }\n",
    "}"
   ]
  },
  {
   "cell_type": "markdown",
   "metadata": {},
   "source": [
    "# Implement some example callbacks"
   ]
  },
  {
   "cell_type": "code",
   "execution_count": null,
   "metadata": {},
   "outputs": [],
   "source": [
    "%include \"EnableIPythonDisplay.swift\"\n",
    "let plt = Python.import(\"matplotlib.pyplot\")\n",
    "IPythonDisplay.shell.enable_matplotlib(\"inline\")\n",
    "\n",
    "class Recorder<Opt: Optimizer> : Callback<Opt>\n",
    "// Hmm, this boilerplate is kind of annoying.\n",
    "where Opt.Model.CotangentVector == Opt.Model.AllDifferentiableVariables,\n",
    "      Opt.Model.Input == Tensor<Float>,\n",
    "      Opt.Model.Output == Tensor<Float>,\n",
    "      // Notice that we can add constraints so that this callback only works with certain types of learners.\n",
    "      // Here, we require that the optimizer's scalar type is float so that `plt.plot` understands the\n",
    "      // learning rate.\n",
    "      Opt.Scalar == Float {\n",
    "          \n",
    "    var losses: [Float] = []\n",
    "    var lrs: [Float] = []\n",
    "          \n",
    "    override func apply(event: CallbackEvent, learner: Learner<Opt>) {\n",
    "        switch event {\n",
    "        case .beginFit:\n",
    "            losses = []\n",
    "            lrs = []\n",
    "        case .afterForwardsBackwards:\n",
    "            losses.append(learner.loss.scalar!)\n",
    "            lrs.append(learner.optimizer.learningRate)\n",
    "        default: break\n",
    "        }\n",
    "    }\n",
    "          \n",
    "    func plotLosses() {\n",
    "        plt.plot(losses)\n",
    "    }\n",
    "          \n",
    "    func plotLrs() {\n",
    "        plt.plot(lrs)\n",
    "    }\n",
    "}"
   ]
  },
  {
   "cell_type": "code",
   "execution_count": null,
   "metadata": {},
   "outputs": [],
   "source": [
    "class ParamScheduler<Opt: Optimizer, Param> : Callback<Opt>\n",
    "// Hmm, this boilerplate is kind of annoying.\n",
    "where Opt.Model.CotangentVector == Opt.Model.AllDifferentiableVariables,\n",
    "      Opt.Model.Input == Tensor<Float>,\n",
    "      Opt.Model.Output == Tensor<Float> {\n",
    "    \n",
    "    let paramKeyPath: ReferenceWritableKeyPath<Learner<Opt>, Param>\n",
    "    let schedule: (Float) -> Param\n",
    "    \n",
    "    init(paramKeyPath: ReferenceWritableKeyPath<Learner<Opt>, Param>, schedule: @escaping (Float) -> Param) {\n",
    "        self.paramKeyPath = paramKeyPath\n",
    "        self.schedule = schedule\n",
    "    }\n",
    "          \n",
    "    override func apply(event: CallbackEvent, learner: Learner<Opt>) {\n",
    "        switch event {\n",
    "        case .beginBatch:\n",
    "            learner[keyPath: paramKeyPath] = schedule(Float(learner.epoch) / Float(learner.epochs))\n",
    "        default: break\n",
    "        }\n",
    "    }\n",
    "}"
   ]
  },
  {
   "cell_type": "markdown",
   "metadata": {},
   "source": [
    "# A simple model and data"
   ]
  },
  {
   "cell_type": "code",
   "execution_count": null,
   "metadata": {},
   "outputs": [],
   "source": [
    "// Sum of the two inputs is the output.\n",
    "let data = Data(trainBatches: [\n",
    "    DataBatch(xb: [[0, 1], [2, 3]], yb: [[1], [5]]),\n",
    "    DataBatch(xb: [[-3, 4], [-10, 2]], yb: [[1], [-8]]),\n",
    "])"
   ]
  },
  {
   "cell_type": "code",
   "execution_count": null,
   "metadata": {},
   "outputs": [],
   "source": [
    "struct SillyModel : Layer {\n",
    "    var dense: Dense<Float> = Dense(inputSize: 2, outputSize: 1)\n",
    "    \n",
    "    // A non-trained parameter to help illustrate the parameter scheduler.\n",
    "    @noDerivative var sillyExtraBiasParam: Float = 0\n",
    "    \n",
    "    @differentiable\n",
    "    func applied(to input: Tensor<Float>, in context: Context) -> Tensor<Float> {\n",
    "        return dense.applied(to: input, in: context) + sillyExtraBiasParam\n",
    "    }\n",
    "}"
   ]
  },
  {
   "cell_type": "code",
   "execution_count": null,
   "metadata": {},
   "outputs": [],
   "source": [
    "@differentiable\n",
    "func meanSquaredError(predictions: Tensor<Float>, labels: Tensor<Float>) -> Tensor<Float> {\n",
    "    return (predictions - labels).squared().mean()\n",
    "}"
   ]
  },
  {
   "cell_type": "code",
   "execution_count": null,
   "metadata": {},
   "outputs": [],
   "source": [
    "let model = SillyModel()"
   ]
  },
  {
   "cell_type": "markdown",
   "metadata": {},
   "source": [
    "# Run the learner"
   ]
  },
  {
   "cell_type": "code",
   "execution_count": null,
   "metadata": {},
   "outputs": [],
   "source": [
    "// Some typealiases to reduce repeatedly typing types.\n",
    "typealias MyOptimizer = SGD<SillyModel, Float>\n",
    "typealias MyLearner = Learner<MyOptimizer>"
   ]
  },
  {
   "cell_type": "code",
   "execution_count": null,
   "metadata": {},
   "outputs": [],
   "source": [
    "let optimizer = MyOptimizer(learningRate: 0.01)"
   ]
  },
  {
   "cell_type": "code",
   "execution_count": null,
   "metadata": {},
   "outputs": [],
   "source": [
    "// We can't schedule the learning rate because the Optimizer protocol doesn't allow setting learning rates.\n",
    "// If we change it to allow setting learning rates, `ParamScheduler` should allow setting learning rates,\n",
    "// with `paramKeyPath: \\MyLearner.optimizer.learningRate`.\n",
    "let scheduler = ParamScheduler(paramKeyPath: \\MyLearner.model.sillyExtraBiasParam) { t in\n",
    "    if t < 0.5 {\n",
    "        return -10\n",
    "    } else {\n",
    "        return 0\n",
    "    }\n",
    "}"
   ]
  },
  {
   "cell_type": "code",
   "execution_count": null,
   "metadata": {},
   "outputs": [],
   "source": [
    "let recorder = Recorder<MyOptimizer>()"
   ]
  },
  {
   "cell_type": "code",
   "execution_count": null,
   "metadata": {},
   "outputs": [],
   "source": [
    "let learner = Learner(\n",
    "    model: model,\n",
    "    lossFunc: meanSquaredError,\n",
    "    optimizer: optimizer,\n",
    "    data: data,\n",
    "    callbacks: [\n",
    "        recorder,\n",
    "        scheduler\n",
    "    ])"
   ]
  },
  {
   "cell_type": "code",
   "execution_count": null,
   "metadata": {},
   "outputs": [
    {
     "ename": "",
     "evalue": "",
     "output_type": "error",
     "traceback": [
      "error: Execution was interrupted, reason: signal SIGSEGV: address access protected (fault address: 0x341bc60).\nThe process has been left at the point where it was interrupted, use \"thread return -x\" to return to the state before expression evaluation.\n"
     ]
    }
   ],
   "source": [
    "learner.fit(epochs: 100)"
   ]
  },
  {
   "cell_type": "code",
   "execution_count": null,
   "metadata": {},
   "outputs": [],
   "source": [
    "recorder.plotLosses()\n",
    "plt.show()"
   ]
  },
  {
   "cell_type": "code",
   "execution_count": null,
   "metadata": {},
   "outputs": [],
   "source": []
  }
 ],
 "metadata": {
  "kernelspec": {
   "display_name": "Swift",
   "language": "swift",
   "name": "swift"
  }
 },
 "nbformat": 4,
 "nbformat_minor": 2
}
